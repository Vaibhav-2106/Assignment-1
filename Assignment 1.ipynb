{
 "cells": [
  {
   "cell_type": "code",
   "execution_count": 1,
   "id": "f59e5648-9dc4-4660-ab75-8ceca611f803",
   "metadata": {},
   "outputs": [],
   "source": [
    "#Assignment No 1 Solutions"
   ]
  },
  {
   "cell_type": "code",
   "execution_count": 4,
   "id": "ca44cded-5208-4db1-a448-c17d4690b1d9",
   "metadata": {},
   "outputs": [
    {
     "name": "stdout",
     "output_type": "stream",
     "text": [
      "<class 'str'>\n",
      "<class 'list'>\n",
      "<class 'float'>\n",
      "<class 'tuple'>\n"
     ]
    }
   ],
   "source": [
    "#Q1.\n",
    "Name = \"Vaibhav\"      #(i)\n",
    "print(type(Name))\n",
    "\n",
    "l = [1,2,3,\"Akshay\",13.7]    #(ii)\n",
    "print(type(l))\n",
    "\n",
    "f = 14.78                 #(iii)\n",
    "print(type(f))\n",
    "\n",
    "Tuple = (Name, l, f)      #(iv)\n",
    "print(type(Tuple))\n",
    "\n"
   ]
  },
  {
   "cell_type": "code",
   "execution_count": 5,
   "id": "84a06df2-c320-4ce4-ba7d-c7f89e8e4031",
   "metadata": {},
   "outputs": [
    {
     "name": "stdout",
     "output_type": "stream",
     "text": [
      "<class 'str'>\n",
      "<class 'str'>\n",
      "<class 'list'>\n",
      "<class 'int'>\n"
     ]
    }
   ],
   "source": [
    "#Q2.\n",
    "var1 = ''\n",
    "print(type(var1))\n",
    "\n",
    "var2 = '[DS, ML, Python]'\n",
    "print(type(var2))\n",
    "\n",
    "var3 = ['DS', 'ML', 'Python']\n",
    "print(type(var3))\n",
    "\n",
    "var4 = 1\n",
    "print(type(var4))"
   ]
  },
  {
   "cell_type": "code",
   "execution_count": 7,
   "id": "5c3a5a50-44d1-4143-b42e-6b53fd1b6277",
   "metadata": {},
   "outputs": [
    {
     "data": {
      "text/plain": [
       "1.0"
      ]
     },
     "execution_count": 7,
     "metadata": {},
     "output_type": "execute_result"
    }
   ],
   "source": [
    "#Q3.\n",
    "#(i) Division operator {used to do divisions and report values in float data type}\n",
    "5 / 5     #Example"
   ]
  },
  {
   "cell_type": "code",
   "execution_count": 9,
   "id": "833d670a-773d-4b85-8478-9e72807544bd",
   "metadata": {},
   "outputs": [
    {
     "data": {
      "text/plain": [
       "1"
      ]
     },
     "execution_count": 9,
     "metadata": {},
     "output_type": "execute_result"
    }
   ],
   "source": [
    "#(ii) Modulus operator {which gives us the remainder of division}\n",
    "5 % 4     #Example-when 4 divides 5 remainder is 1"
   ]
  },
  {
   "cell_type": "code",
   "execution_count": 10,
   "id": "8dbbdb4a-48b3-43ed-82f0-f9265b6fb3a7",
   "metadata": {},
   "outputs": [
    {
     "data": {
      "text/plain": [
       "1"
      ]
     },
     "execution_count": 10,
     "metadata": {},
     "output_type": "execute_result"
    }
   ],
   "source": [
    "#(iii) Floor operation {It returns the integer value after division}\n",
    "5 // 4    #Example-The value of division 5/4 is 1.25 hence floor operation return perfect integer value 1"
   ]
  },
  {
   "cell_type": "code",
   "execution_count": 11,
   "id": "13aae07d-cacc-4950-a03f-1240b4a08cb3",
   "metadata": {},
   "outputs": [
    {
     "data": {
      "text/plain": [
       "100"
      ]
     },
     "execution_count": 11,
     "metadata": {},
     "output_type": "execute_result"
    }
   ],
   "source": [
    "#(iv) Exponent operator {Helps to write power of any number in python}\n",
    "10 ** 2    #Example - Meaning is 10 to the power 2"
   ]
  },
  {
   "cell_type": "code",
   "execution_count": 13,
   "id": "f4487665-3a6e-4d16-8d2e-74255fdd2209",
   "metadata": {},
   "outputs": [
    {
     "name": "stdout",
     "output_type": "stream",
     "text": [
      "1\n",
      "<class 'int'>\n",
      "1.34\n",
      "<class 'float'>\n",
      "Manuu\n",
      "<class 'str'>\n",
      "True\n",
      "<class 'bool'>\n",
      "4\n",
      "<class 'int'>\n",
      "Vaibhav\n",
      "<class 'str'>\n",
      "Physics Wallah\n",
      "<class 'str'>\n",
      "False\n",
      "<class 'bool'>\n",
      "0\n",
      "<class 'int'>\n",
      "0.00078\n",
      "<class 'float'>\n"
     ]
    }
   ],
   "source": [
    "#Q4.\n",
    "l = [1, 1.34, \"Manuu\", True, 4, \"Vaibhav\", \"Physics Wallah\", False, 0, 0.00078]\n",
    "for i in l :\n",
    "    print(i)\n",
    "    print(type(i))"
   ]
  },
  {
   "cell_type": "code",
   "execution_count": null,
   "id": "db78735c-6cff-43b7-b448-75e17b168710",
   "metadata": {},
   "outputs": [],
   "source": [
    "#Q5.\n",
    "A = int(input(\"Enter Number A\"))\n",
    "B = int(input(\"Enter Number B\"))\n",
    "R = A % B\n",
    "while R == 0 :\n",
    "    \n"
   ]
  },
  {
   "cell_type": "code",
   "execution_count": 17,
   "id": "147aba92-3ee0-49a1-92b6-aeb60a8ad659",
   "metadata": {},
   "outputs": [
    {
     "name": "stdout",
     "output_type": "stream",
     "text": [
      "1\n",
      "Number is not divisible by 3\n",
      "2\n",
      "Number is not divisible by 3\n",
      "3\n",
      "Number divisible by 3\n",
      "4\n",
      "Number is not divisible by 3\n",
      "5\n",
      "Number is not divisible by 3\n",
      "6\n",
      "Number divisible by 3\n",
      "7\n",
      "Number is not divisible by 3\n",
      "8\n",
      "Number is not divisible by 3\n",
      "9\n",
      "Number divisible by 3\n",
      "10\n",
      "Number is not divisible by 3\n",
      "11\n",
      "Number is not divisible by 3\n",
      "12\n",
      "Number divisible by 3\n",
      "13\n",
      "Number is not divisible by 3\n",
      "14\n",
      "Number is not divisible by 3\n",
      "15\n",
      "Number divisible by 3\n",
      "16\n",
      "Number is not divisible by 3\n",
      "17\n",
      "Number is not divisible by 3\n",
      "18\n",
      "Number divisible by 3\n",
      "19\n",
      "Number is not divisible by 3\n",
      "20\n",
      "Number is not divisible by 3\n",
      "21\n",
      "Number divisible by 3\n",
      "22\n",
      "Number is not divisible by 3\n",
      "23\n",
      "Number is not divisible by 3\n",
      "24\n",
      "Number divisible by 3\n",
      "25\n",
      "Number is not divisible by 3\n"
     ]
    }
   ],
   "source": [
    "#Q6.\n",
    "p = [1,2,3,4,5,6,7,8,9,10,11,12,13,14,15,16,17,18,19,20,21,22,23,24,25]\n",
    "for i in p :\n",
    "    print(i)\n",
    "    q = i % 3\n",
    "    if q == 0 :\n",
    "        print(\"Number divisible by 3\")\n",
    "    else :\n",
    "        print(\"Number is not divisible by 3\")"
   ]
  },
  {
   "cell_type": "code",
   "execution_count": 19,
   "id": "ad430895-5b1f-4c24-96d8-eca1c09e1f50",
   "metadata": {},
   "outputs": [
    {
     "name": "stdout",
     "output_type": "stream",
     "text": [
      "[1, 2, False, 100000]\n"
     ]
    }
   ],
   "source": [
    "#Q7.\n",
    "#When we can play with the indices of the varable then those objects are calle mutable.For example consider list\n",
    "l = [1, 2, True, 10]\n",
    "l[2] = False\n",
    "l[3] = 100000  \n",
    "print(l)"
   ]
  },
  {
   "cell_type": "code",
   "execution_count": 21,
   "id": "6d156f69-8952-4465-94e0-d550b4a593de",
   "metadata": {},
   "outputs": [
    {
     "ename": "TypeError",
     "evalue": "'str' object does not support item assignment",
     "output_type": "error",
     "traceback": [
      "\u001b[0;31m---------------------------------------------------------------------------\u001b[0m",
      "\u001b[0;31mTypeError\u001b[0m                                 Traceback (most recent call last)",
      "Cell \u001b[0;32mIn[21], line 3\u001b[0m\n\u001b[1;32m      1\u001b[0m \u001b[38;5;66;03m#Wherever we are not allowed to play with the indices of variable those objects are imutable.For example consider string\u001b[39;00m\n\u001b[1;32m      2\u001b[0m Name \u001b[38;5;241m=\u001b[39m \u001b[38;5;124m\"\u001b[39m\u001b[38;5;124mVaibhav\u001b[39m\u001b[38;5;124m\"\u001b[39m\n\u001b[0;32m----> 3\u001b[0m \u001b[43mName\u001b[49m\u001b[43m[\u001b[49m\u001b[38;5;241;43m2\u001b[39;49m\u001b[43m]\u001b[49m \u001b[38;5;241m=\u001b[39m \u001b[38;5;124m\"\u001b[39m\u001b[38;5;124mo\u001b[39m\u001b[38;5;124m\"\u001b[39m\n",
      "\u001b[0;31mTypeError\u001b[0m: 'str' object does not support item assignment"
     ]
    }
   ],
   "source": [
    "#Wherever we are not allowed to play with the indices of variable those objects are imutable.For example consider string\n",
    "Name = \"Vaibhav\"\n",
    "Name[2] = \"o\""
   ]
  },
  {
   "cell_type": "code",
   "execution_count": null,
   "id": "48d2bfc0-3fa5-48bf-9354-768861ee575c",
   "metadata": {},
   "outputs": [],
   "source": []
  }
 ],
 "metadata": {
  "kernelspec": {
   "display_name": "Python 3 (ipykernel)",
   "language": "python",
   "name": "python3"
  },
  "language_info": {
   "codemirror_mode": {
    "name": "ipython",
    "version": 3
   },
   "file_extension": ".py",
   "mimetype": "text/x-python",
   "name": "python",
   "nbconvert_exporter": "python",
   "pygments_lexer": "ipython3",
   "version": "3.10.8"
  }
 },
 "nbformat": 4,
 "nbformat_minor": 5
}
